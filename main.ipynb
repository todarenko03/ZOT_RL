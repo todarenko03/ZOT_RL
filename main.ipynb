{
 "cells": [
  {
   "cell_type": "code",
   "execution_count": 17,
   "metadata": {},
   "outputs": [],
   "source": [
    "import flappy_bird_env\n",
    "import gymnasium\n",
    "import torch\n",
    "from gymnasium.utils.play import play\n",
    "import numpy as np\n",
    "import pygame\n",
    "import math\n",
    "from torch.autograd import Variable\n",
    "import matplotlib.pyplot as plt\n",
    "from scipy import stats\n",
    "import torch.nn as nn\n",
    "import torch.nn.functional as F\n",
    "import warnings\n",
    "warnings.filterwarnings('ignore')"
   ]
  },
  {
   "cell_type": "markdown",
   "metadata": {},
   "source": [
    "Характеристики среды:\n",
    "    Имеется 2 действия. 1: сделать рывок вверх. 0: ничего не делать.\n",
    "    Состояния: Изначально среда передавала изображение размерностью 800 * 576 * 3, но мы решили работать с 6 числами. Координаты и размеры трубы, и координаты птички.\n",
    "    Ревард: +1 за каждую пройденную трубу и + 0.001 за каждый пройденный кадр без коллизии"
   ]
  },
  {
   "cell_type": "code",
   "execution_count": 2,
   "metadata": {},
   "outputs": [],
   "source": [
    "env = gymnasium.make(\"FlappyBird-v0\", render_mode=\"rgb_array\")"
   ]
  },
  {
   "cell_type": "markdown",
   "metadata": {},
   "source": [
    "В этой ячейке можно запустить игру и поиграть в неё. "
   ]
  },
  {
   "cell_type": "code",
   "execution_count": 284,
   "metadata": {},
   "outputs": [],
   "source": [
    "# play(env, keys_to_action={(pygame.K_SPACE,): np.array([1])}, noop=np.array([0]),\n",
    "#      fps=24)"
   ]
  },
  {
   "cell_type": "code",
   "execution_count": 285,
   "metadata": {},
   "outputs": [
    {
     "data": {
      "text/plain": [
       "Discrete(2)"
      ]
     },
     "execution_count": 285,
     "metadata": {},
     "output_type": "execute_result"
    }
   ],
   "source": [
    "env.action_space"
   ]
  },
  {
   "cell_type": "markdown",
   "metadata": {},
   "source": [
    "# Задание 1. $\\varepsilon$-жадная стратегия с эстиматором. "
   ]
  },
  {
   "cell_type": "code",
   "execution_count": 5,
   "metadata": {},
   "outputs": [],
   "source": [
    "def gen_epsilon_greedy_policy(estimator, epsilon, n_action):\n",
    "    def policy_function(state):\n",
    "            probs = torch.ones(n_action) * epsilon / n_action\n",
    "            q_values = estimator.predict(state)\n",
    "            best_action = torch.argmax(q_values).item()\n",
    "            probs[best_action] += 1.0 - epsilon\n",
    "            action = torch.multinomial(probs, 1).item()\n",
    "            return action \n",
    "    return policy_function"
   ]
  },
  {
   "cell_type": "code",
   "execution_count": 6,
   "metadata": {},
   "outputs": [],
   "source": [
    "class LR_Estimate():\n",
    "    def __init__(self, n_feat, n_state, n_action, lr=0.05):#n_state - размерность состояний теперь\n",
    "        self.w, self.b = self.get_gaussian_wb(n_feat,n_state)\n",
    "        self.n_feat = n_feat\n",
    "        self.models = []\n",
    "        self.optimizers = []\n",
    "        self.criterion = torch.nn.MSELoss()\n",
    "        for _ in range(n_action):\n",
    "            model = torch.nn.Linear(n_feat,1)\n",
    "            self.models.append(model)\n",
    "            optimizer = torch.optim.SGD(model.parameters(), lr)\n",
    "            self.optimizers.append(optimizer)\n",
    "\n",
    "    def get_gaussian_wb(self, n_feat, n_state, sigma=.2):\n",
    "        torch.manual_seed(0)\n",
    "        w = torch.randn((n_state,n_feat))/sigma\n",
    "        b = torch.rand((n_feat))* 2.0 * math.pi\n",
    "        return w, b\n",
    "\n",
    "    def get_feature(self, s):\n",
    "        features = (2.0 / self.n_feat) ** 0.5 * torch.cos(torch.matmul(torch.tensor(s).float().T, self.w) + self.b)\n",
    "        \n",
    "        return features\n",
    "\n",
    "    def update(self, s, a, y):\n",
    "        features = Variable(self.get_feature(s))\n",
    "        y_pred = self.models[a](features)\n",
    "\n",
    "        loss = self.criterion(y_pred, Variable(torch.Tensor([y])))\n",
    "\n",
    "        self.optimizers[a].zero_grad()\n",
    "        loss.backward()\n",
    "        self.optimizers[a].step()\n",
    "\n",
    "    def predict(self,s):\n",
    "        features = self.get_feature(s)\n",
    "        # print(features)\n",
    "        with torch.no_grad():\n",
    "            m = [model(features) for model in self.models]\n",
    "            b = torch.Tensor(len(m), len(m[0]))\n",
    "            \n",
    "            torch.cat(m, out=b)\n",
    "            return b"
   ]
  },
  {
   "cell_type": "code",
   "execution_count": 288,
   "metadata": {},
   "outputs": [],
   "source": [
    "estimator = LR_Estimate(10, 6, env.action_space.n)\n",
    "policy = gen_epsilon_greedy_policy(estimator, 0.1, env.action_space.n)"
   ]
  },
  {
   "cell_type": "code",
   "execution_count": 296,
   "metadata": {},
   "outputs": [
    {
     "name": "stderr",
     "output_type": "stream",
     "text": [
      "/tmp/ipykernel_19126/3857906204.py:42: UserWarning: An output with one or more elements was resized since it had shape [2, 1], which does not match the required output shape [2]. This behavior is deprecated, and in a future PyTorch release outputs will not be resized unless they have zero elements. You can explicitly reuse an out tensor t by resizing it, inplace, to zero elements with t.resize_(0). (Triggered internally at ../aten/src/ATen/native/Resize.cpp:26.)\n",
      "  torch.cat(m, out=b)\n"
     ]
    }
   ],
   "source": [
    "rewards = np.zeros(30)\n",
    "for traj_num in range(30):\n",
    "    info = env.reset()\n",
    "    state = np.array(list(info[1]['pipes'][-1].values()) + list(info[1]['bird'].values()))\n",
    "    is_done = False\n",
    "    for ___ in range(100):\n",
    "        if is_done:\n",
    "            break\n",
    "        action = policy(state)\n",
    "        new_state, reward, is_done, __,  info = env.step(action)\n",
    "        state = np.array(list(info['pipes'][-1].values()) + list(info['bird'].values()))\n",
    "        rewards[traj_num] += reward "
   ]
  },
  {
   "cell_type": "markdown",
   "metadata": {},
   "source": [
    "Точечная оценка наших ревардов."
   ]
  },
  {
   "cell_type": "code",
   "execution_count": 297,
   "metadata": {},
   "outputs": [
    {
     "name": "stdout",
     "output_type": "stream",
     "text": [
      "0.060733333333333354\n"
     ]
    }
   ],
   "source": [
    "mean_rew = sum(rewards) / len(rewards)\n",
    "print(mean_rew)"
   ]
  },
  {
   "cell_type": "markdown",
   "metadata": {},
   "source": [
    "Интервальная оценка"
   ]
  },
  {
   "cell_type": "code",
   "execution_count": 298,
   "metadata": {},
   "outputs": [
    {
     "name": "stdout",
     "output_type": "stream",
     "text": [
      "(0.019335231582902714, 0.10213143508376399)\n"
     ]
    }
   ],
   "source": [
    "interval = stats.norm.interval(0.95, loc=mean_rew, scale=stats.tstd(rewards, axis=0))\n",
    "print(interval)"
   ]
  },
  {
   "cell_type": "markdown",
   "metadata": {},
   "source": [
    "# Задание 2. Алгоритм Q-learning"
   ]
  },
  {
   "cell_type": "markdown",
   "metadata": {},
   "source": [
    "Мы взяли именно Q-learning с эстиматором для того, чтобы заменить ценности состояний более компактной моделью, чем таблица точных значений. Также Q-learning будет работать чуть быстрее, чем SARSA, т.к. здесь у нас нет «исследовательского шага», но вообще для каждой среды это индивидуально.\n",
    "\n",
    "Источник: https://medium.rip/codex/temporal-difference-learning-sarsa-vs-q-learning-c367934b8bcc\n",
    "\n",
    "P.S. Чтобы открывать статьи медиума без vpn, можно заменить .com на .rip, это доступное нам зеркало. Правда, там не будет картинок"
   ]
  },
  {
   "cell_type": "code",
   "execution_count": 16,
   "metadata": {},
   "outputs": [],
   "source": [
    "def q_learning(env, estimator, n_episode, epsilon, n_action, gamma=1.0, epsilon_decay=0.99):\n",
    "    for episode in range(n_episode):\n",
    "        policy = gen_epsilon_greedy_policy(estimator, epsilon * epsilon_decay ** episode, n_action)\n",
    "        \n",
    "        info = env.reset()\n",
    "        state = np.array(list(info[1]['pipes'][-1].values()) + list(info[1]['bird'].values()))\n",
    "        is_done = False\n",
    "        \n",
    "        while not is_done:\n",
    "            action = policy(state)\n",
    "            \n",
    "            new_state, reward, is_done, __,  info = env.step(action)\n",
    "            near_pipe = min(info['pipes'], key= lambda x: abs(x['x'] - info['bird']['x']))\n",
    "            new_state = np.array(list(near_pipe.values()) + list(info['bird'].values()))\n",
    "            \n",
    "            q_values_next = estimator.predict(new_state)\n",
    "            td_target = reward + gamma * torch.max(q_values_next)\n",
    "            \n",
    "            estimator.update(state, action, td_target)\n",
    "            \n",
    "            total_reward_episode[episode] += reward\n",
    "        state = new_state"
   ]
  },
  {
   "cell_type": "code",
   "execution_count": 7,
   "metadata": {},
   "outputs": [
    {
     "name": "stderr",
     "output_type": "stream",
     "text": [
      "C:\\Users\\Людмила\\AppData\\Local\\Temp\\ipykernel_14124\\3857906204.py:21: UserWarning: The use of `x.T` on tensors of dimension other than 2 to reverse their shape is deprecated and it will throw an error in a future release. Consider `x.mT` to transpose batches of matrices or `x.permute(*torch.arange(x.ndim - 1, -1, -1))` to reverse the dimensions of a tensor. (Triggered internally at ..\\aten\\src\\ATen\\native\\TensorShape.cpp:3679.)\n",
      "  features = (2.0 / self.n_feat) ** 0.5 * torch.cos(torch.matmul(torch.tensor(s).float().T, self.w) + self.b)\n",
      "C:\\Users\\Людмила\\AppData\\Local\\Temp\\ipykernel_14124\\3857906204.py:42: UserWarning: An output with one or more elements was resized since it had shape [2, 1], which does not match the required output shape [2]. This behavior is deprecated, and in a future PyTorch release outputs will not be resized unless they have zero elements. You can explicitly reuse an out tensor t by resizing it, inplace, to zero elements with t.resize_(0). (Triggered internally at ..\\aten\\src\\ATen\\native\\Resize.cpp:35.)\n",
      "  torch.cat(m, out=b)\n"
     ]
    }
   ],
   "source": [
    "n_state = 6\n",
    "n_action = env.action_space.n\n",
    "n_feature = 5\n",
    "lr = 0.03\n",
    "estimator = LR_Estimate(n_feature, n_state, n_action, lr)\n",
    "\n",
    "n_episode = 300\n",
    "total_reward_episode = [0] * n_episode\n",
    "q_learning(env, estimator, n_episode, 0.1, n_action)"
   ]
  },
  {
   "cell_type": "markdown",
   "metadata": {},
   "source": [
    "Точечная оценка наших ревардов."
   ]
  },
  {
   "cell_type": "code",
   "execution_count": 12,
   "metadata": {},
   "outputs": [
    {
     "name": "stdout",
     "output_type": "stream",
     "text": [
      "0.033016666666666715\n"
     ]
    }
   ],
   "source": [
    "mean_rew = sum(total_reward_episode) / len(total_reward_episode)\n",
    "print(mean_rew)"
   ]
  },
  {
   "cell_type": "markdown",
   "metadata": {},
   "source": [
    "Интервальная оценка"
   ]
  },
  {
   "cell_type": "code",
   "execution_count": 15,
   "metadata": {},
   "outputs": [
    {
     "name": "stdout",
     "output_type": "stream",
     "text": [
      "(0.025531501450545037, 0.04050183188278839)\n"
     ]
    }
   ],
   "source": [
    "interval = stats.norm.interval(0.95, loc=mean_rew, scale=stats.tstd(total_reward_episode, axis=0))\n",
    "print(interval)"
   ]
  },
  {
   "cell_type": "markdown",
   "metadata": {},
   "source": [
    "Видно, что хоть и среднее значение уменьшилось, уменьшился также и разброс значений."
   ]
  },
  {
   "cell_type": "code",
   "execution_count": 10,
   "metadata": {},
   "outputs": [],
   "source": [
    "plt.plot(total_reward_episode, 'b.')\n",
    "plt.title('Зависимость вознаграждения в эпизоде от времени')\n",
    "plt.xlabel('Эпизод')\n",
    "plt.ylabel('Полное вознаграждение')\n",
    "plt.show()"
   ]
  },
  {
   "cell_type": "markdown",
   "metadata": {},
   "source": [
    "На графике видно, что птичка не может перелететь даже через первую трубу. Вообще, это даже вручную сделать тяжело, т.к. среда немного кривенькая, и игра здесь намного сложнее оригинальной flappybird, однако, возможно, алгоритм посложнее как-нибудь приспособится."
   ]
  },
  {
   "attachments": {
    "image.png": {
     "image/png": "[encoded data removed]"
    }
   },
   "cell_type": "markdown",
   "metadata": {},
   "source": [
    "![image.png](attachment:image.png)"
   ]
  },
  {
   "cell_type": "markdown",
   "metadata": {},
   "source": [
    "# Задание 3. Алгоритм Актор-Критик"
   ]
  },
  {
   "cell_type": "markdown",
   "metadata": {},
   "source": [
    "Градиент политики слишком случаен, у Reinforcement слишком большая дисперсия, а Reinforcement with baseline очень медленно и долго сходится. Вот и остаётся только надеяться на Актора и на Критика"
   ]
  },
  {
   "cell_type": "code",
   "execution_count": 37,
   "metadata": {},
   "outputs": [],
   "source": [
    "class ActorCriticModel(nn.Module):\n",
    "    def __init__(self, n_input, n_output, n_hidden):\n",
    "        super(ActorCriticModel, self).__init__()\n",
    "        self.fc = nn.Linear(n_input, n_hidden)\n",
    "        self.action = nn.Linear(n_hidden, n_output)\n",
    "        self.value = nn.Linear(n_hidden, 1)\n",
    "    \n",
    "    def forward(self, x):\n",
    "        x = torch.Tensor(x)\n",
    "        x = F.mish(self.fc(x))\n",
    "        action_probs = F.softmax(self.action(x), dim=-1)\n",
    "        state_value = self.value(x)\n",
    "        return action_probs, state_value"
   ]
  },
  {
   "cell_type": "code",
   "execution_count": 23,
   "metadata": {},
   "outputs": [],
   "source": [
    "class PolicyNetwork():\n",
    "    def __init__(self, n_state, n_action, n_hidden=50, lr=0.001):\n",
    "        self.model = ActorCriticModel(n_state, n_action, n_hidden)\n",
    "        self.optimizer = torch.optim.Adam(self.model.parameters(), lr)\n",
    "        self.scheduler = torch.optim.lr_scheduler.StepLR(self.optimizer, step_size=10, gamma=0.9)\n",
    "\n",
    "    def predict(self, s):\n",
    "        return self.model(torch.tensor(s))\n",
    "\n",
    "    def update(self, returns, log_probs, state_values):\n",
    "        loss = 0\n",
    "        for log_prob, value, Gt in zip(log_probs, state_values, returns):\n",
    "            advantage = Gt - value.item()\n",
    "            policy_loss = -log_prob * advantage\n",
    "            value_loss = F.smooth_l1_loss(value, Gt)\n",
    "            loss += policy_loss + value_loss\n",
    "\n",
    "        self.optimizer.zero_grad()\n",
    "        loss.backward()\n",
    "        self.optimizer.step()\n",
    "\n",
    "    def get_action(self, s):\n",
    "        ac_probs, state_value = self.predict(s)\n",
    "        action = torch.multinomial(ac_probs, 1).item()\n",
    "        log_prob = torch.log(ac_probs[action])\n",
    "        return action, log_prob, state_value"
   ]
  },
  {
   "cell_type": "code",
   "execution_count": 36,
   "metadata": {},
   "outputs": [],
   "source": [
    "def actor_critic(env, estimator, n_episode, gamma=1.0):\n",
    "    for episode in range(n_episode):\n",
    "        log_probs = []\n",
    "        rewards = []\n",
    "        state_values = []\n",
    "\n",
    "        info = env.reset()\n",
    "        state = np.array(list(info[1]['pipes'][-1].values()) + list(info[1]['bird'].values()))\n",
    "        while True:\n",
    "            action, log_prob, state_value = estimator.get_action(state.astype(np.float32))\n",
    "            \n",
    "            new_state, reward, is_done, __,  info = env.step(action)\n",
    "            near_pipe = min(info['pipes'], key= lambda x: abs(x['x'] - info['bird']['x']))\n",
    "            next_state = np.array(list(near_pipe.values()) + list(info['bird'].values()))\n",
    "            \n",
    "            total_reward_episode[episode] += reward\n",
    "\n",
    "            log_probs.append(log_prob)\n",
    "            rewards.append(reward)\n",
    "            state_values.append(state_value)\n",
    "\n",
    "            if is_done:\n",
    "                returns = []\n",
    "                Gt = 0\n",
    "                pw = 0\n",
    "                for reward in rewards[::-1]:\n",
    "                    Gt += gamma ** pw * reward\n",
    "                    pw += 1\n",
    "                    returns.append(Gt)\n",
    "\n",
    "                returns = returns[::-1]\n",
    "                returns = torch.Tensor(returns)\n",
    "\n",
    "                returns = (returns - torch.mean(returns)) / (torch.std(returns) + 1e-9)\n",
    "\n",
    "                estimator.update(returns, log_probs, state_values)\n",
    "\n",
    "                if total_reward_episode[episode] >= 195:\n",
    "                    estimator.schedufler.step()\n",
    "\n",
    "                print(f'Episode: {episode}, total reward: {total_reward_episode[episode]}')\n",
    "                break\n",
    "\n",
    "            state = next_state"
   ]
  },
  {
   "cell_type": "code",
   "execution_count": 43,
   "metadata": {},
   "outputs": [
    {
     "name": "stdout",
     "output_type": "stream",
     "text": [
      "Episode: 0, total reward: 0.03400000000000002\n",
      "Episode: 1, total reward: 0.03400000000000002\n",
      "Episode: 2, total reward: 0.024000000000000014\n",
      "Episode: 3, total reward: 0.03400000000000002\n",
      "Episode: 4, total reward: 0.03400000000000002\n",
      "Episode: 5, total reward: 0.02000000000000001\n",
      "Episode: 6, total reward: 0.02000000000000001\n",
      "Episode: 7, total reward: 0.02000000000000001\n",
      "Episode: 8, total reward: 0.06500000000000004\n",
      "Episode: 9, total reward: 0.02000000000000001\n",
      "Episode: 10, total reward: 0.02000000000000001\n",
      "Episode: 11, total reward: 0.02000000000000001\n",
      "Episode: 12, total reward: 0.02000000000000001\n",
      "Episode: 13, total reward: 0.03400000000000002\n",
      "Episode: 14, total reward: 0.02000000000000001\n",
      "Episode: 15, total reward: 0.02000000000000001\n",
      "Episode: 16, total reward: 0.02000000000000001\n",
      "Episode: 17, total reward: 0.02000000000000001\n",
      "Episode: 18, total reward: 0.02000000000000001\n",
      "Episode: 19, total reward: 0.02000000000000001\n",
      "Episode: 20, total reward: 0.02000000000000001\n",
      "Episode: 21, total reward: 0.02000000000000001\n",
      "Episode: 22, total reward: 0.02000000000000001\n",
      "Episode: 23, total reward: 0.02000000000000001\n",
      "Episode: 24, total reward: 0.02000000000000001\n",
      "Episode: 25, total reward: 0.02000000000000001\n",
      "Episode: 26, total reward: 0.02000000000000001\n",
      "Episode: 27, total reward: 0.02000000000000001\n",
      "Episode: 28, total reward: 0.02000000000000001\n",
      "Episode: 29, total reward: 0.02000000000000001\n",
      "Episode: 30, total reward: 0.02000000000000001\n",
      "Episode: 31, total reward: 0.02000000000000001\n",
      "Episode: 32, total reward: 0.02000000000000001\n",
      "Episode: 33, total reward: 0.02000000000000001\n",
      "Episode: 34, total reward: 0.02000000000000001\n",
      "Episode: 35, total reward: 0.02000000000000001\n",
      "Episode: 36, total reward: 0.02000000000000001\n",
      "Episode: 37, total reward: 0.02000000000000001\n",
      "Episode: 38, total reward: 0.02000000000000001\n",
      "Episode: 39, total reward: 0.02000000000000001\n",
      "Episode: 40, total reward: 0.02000000000000001\n",
      "Episode: 41, total reward: 0.02000000000000001\n",
      "Episode: 42, total reward: 0.02000000000000001\n",
      "Episode: 43, total reward: 0.02000000000000001\n",
      "Episode: 44, total reward: 0.02000000000000001\n",
      "Episode: 45, total reward: 0.02000000000000001\n",
      "Episode: 46, total reward: 0.02000000000000001\n",
      "Episode: 47, total reward: 0.02000000000000001\n",
      "Episode: 48, total reward: 0.02000000000000001\n",
      "Episode: 49, total reward: 0.02000000000000001\n",
      "Episode: 50, total reward: 0.02000000000000001\n",
      "Episode: 51, total reward: 0.02000000000000001\n",
      "Episode: 52, total reward: 0.02000000000000001\n",
      "Episode: 53, total reward: 0.02000000000000001\n",
      "Episode: 54, total reward: 0.02000000000000001\n",
      "Episode: 55, total reward: 0.02000000000000001\n",
      "Episode: 56, total reward: 0.02000000000000001\n",
      "Episode: 57, total reward: 0.02000000000000001\n",
      "Episode: 58, total reward: 0.02000000000000001\n",
      "Episode: 59, total reward: 0.02000000000000001\n",
      "Episode: 60, total reward: 0.02000000000000001\n",
      "Episode: 61, total reward: 0.02000000000000001\n",
      "Episode: 62, total reward: 0.02000000000000001\n",
      "Episode: 63, total reward: 0.02000000000000001\n",
      "Episode: 64, total reward: 0.02000000000000001\n",
      "Episode: 65, total reward: 0.02000000000000001\n",
      "Episode: 66, total reward: 0.02000000000000001\n",
      "Episode: 67, total reward: 0.02000000000000001\n",
      "Episode: 68, total reward: 0.02000000000000001\n",
      "Episode: 69, total reward: 0.02000000000000001\n",
      "Episode: 70, total reward: 0.02000000000000001\n",
      "Episode: 71, total reward: 0.02000000000000001\n",
      "Episode: 72, total reward: 0.02000000000000001\n",
      "Episode: 73, total reward: 0.02000000000000001\n",
      "Episode: 74, total reward: 0.02000000000000001\n",
      "Episode: 75, total reward: 0.02000000000000001\n",
      "Episode: 76, total reward: 0.02000000000000001\n",
      "Episode: 77, total reward: 0.02000000000000001\n",
      "Episode: 78, total reward: 0.02000000000000001\n",
      "Episode: 79, total reward: 0.02000000000000001\n",
      "Episode: 80, total reward: 0.02000000000000001\n",
      "Episode: 81, total reward: 0.02000000000000001\n",
      "Episode: 82, total reward: 0.02000000000000001\n",
      "Episode: 83, total reward: 0.02000000000000001\n",
      "Episode: 84, total reward: 0.02000000000000001\n",
      "Episode: 85, total reward: 0.02000000000000001\n",
      "Episode: 86, total reward: 0.02000000000000001\n",
      "Episode: 87, total reward: 0.02000000000000001\n",
      "Episode: 88, total reward: 0.02000000000000001\n",
      "Episode: 89, total reward: 0.02000000000000001\n",
      "Episode: 90, total reward: 0.02000000000000001\n",
      "Episode: 91, total reward: 0.02000000000000001\n",
      "Episode: 92, total reward: 0.02000000000000001\n",
      "Episode: 93, total reward: 0.02000000000000001\n",
      "Episode: 94, total reward: 0.02000000000000001\n",
      "Episode: 95, total reward: 0.02000000000000001\n",
      "Episode: 96, total reward: 0.02000000000000001\n",
      "Episode: 97, total reward: 0.02000000000000001\n",
      "Episode: 98, total reward: 0.02000000000000001\n",
      "Episode: 99, total reward: 0.02000000000000001\n",
      "Episode: 100, total reward: 0.02000000000000001\n",
      "Episode: 101, total reward: 0.02000000000000001\n",
      "Episode: 102, total reward: 0.02000000000000001\n",
      "Episode: 103, total reward: 0.02000000000000001\n",
      "Episode: 104, total reward: 0.02000000000000001\n",
      "Episode: 105, total reward: 0.02000000000000001\n",
      "Episode: 106, total reward: 0.02000000000000001\n",
      "Episode: 107, total reward: 0.02000000000000001\n",
      "Episode: 108, total reward: 0.02000000000000001\n",
      "Episode: 109, total reward: 0.02000000000000001\n",
      "Episode: 110, total reward: 0.02000000000000001\n",
      "Episode: 111, total reward: 0.02000000000000001\n",
      "Episode: 112, total reward: 0.02000000000000001\n",
      "Episode: 113, total reward: 0.02000000000000001\n",
      "Episode: 114, total reward: 0.02000000000000001\n",
      "Episode: 115, total reward: 0.02000000000000001\n",
      "Episode: 116, total reward: 0.02000000000000001\n",
      "Episode: 117, total reward: 0.02000000000000001\n",
      "Episode: 118, total reward: 0.02000000000000001\n",
      "Episode: 119, total reward: 0.02000000000000001\n",
      "Episode: 120, total reward: 0.02000000000000001\n",
      "Episode: 121, total reward: 0.02000000000000001\n",
      "Episode: 122, total reward: 0.02000000000000001\n",
      "Episode: 123, total reward: 0.02000000000000001\n",
      "Episode: 124, total reward: 0.02000000000000001\n",
      "Episode: 125, total reward: 0.02000000000000001\n",
      "Episode: 126, total reward: 0.02000000000000001\n",
      "Episode: 127, total reward: 0.02000000000000001\n",
      "Episode: 128, total reward: 0.02000000000000001\n",
      "Episode: 129, total reward: 0.02000000000000001\n",
      "Episode: 130, total reward: 0.02000000000000001\n",
      "Episode: 131, total reward: 0.02000000000000001\n",
      "Episode: 132, total reward: 0.02000000000000001\n",
      "Episode: 133, total reward: 0.02000000000000001\n",
      "Episode: 134, total reward: 0.02000000000000001\n",
      "Episode: 135, total reward: 0.02000000000000001\n",
      "Episode: 136, total reward: 0.02000000000000001\n",
      "Episode: 137, total reward: 0.02000000000000001\n",
      "Episode: 138, total reward: 0.02000000000000001\n",
      "Episode: 139, total reward: 0.02000000000000001\n",
      "Episode: 140, total reward: 0.02000000000000001\n",
      "Episode: 141, total reward: 0.02000000000000001\n",
      "Episode: 142, total reward: 0.02000000000000001\n",
      "Episode: 143, total reward: 0.02000000000000001\n",
      "Episode: 144, total reward: 0.02000000000000001\n",
      "Episode: 145, total reward: 0.02000000000000001\n",
      "Episode: 146, total reward: 0.02000000000000001\n",
      "Episode: 147, total reward: 0.02000000000000001\n",
      "Episode: 148, total reward: 0.02000000000000001\n",
      "Episode: 149, total reward: 0.02000000000000001\n",
      "Episode: 150, total reward: 0.02000000000000001\n",
      "Episode: 151, total reward: 0.02000000000000001\n",
      "Episode: 152, total reward: 0.02000000000000001\n",
      "Episode: 153, total reward: 0.02000000000000001\n",
      "Episode: 154, total reward: 0.02000000000000001\n",
      "Episode: 155, total reward: 0.02000000000000001\n",
      "Episode: 156, total reward: 0.02000000000000001\n",
      "Episode: 157, total reward: 0.02000000000000001\n",
      "Episode: 158, total reward: 0.02000000000000001\n",
      "Episode: 159, total reward: 0.02000000000000001\n",
      "Episode: 160, total reward: 0.02000000000000001\n",
      "Episode: 161, total reward: 0.02000000000000001\n",
      "Episode: 162, total reward: 0.02000000000000001\n",
      "Episode: 163, total reward: 0.02000000000000001\n",
      "Episode: 164, total reward: 0.02000000000000001\n",
      "Episode: 165, total reward: 0.02000000000000001\n",
      "Episode: 166, total reward: 0.02000000000000001\n",
      "Episode: 167, total reward: 0.02000000000000001\n",
      "Episode: 168, total reward: 0.02000000000000001\n",
      "Episode: 169, total reward: 0.02000000000000001\n",
      "Episode: 170, total reward: 0.02000000000000001\n",
      "Episode: 171, total reward: 0.02000000000000001\n",
      "Episode: 172, total reward: 0.02000000000000001\n",
      "Episode: 173, total reward: 0.02000000000000001\n",
      "Episode: 174, total reward: 0.02000000000000001\n",
      "Episode: 175, total reward: 0.02000000000000001\n",
      "Episode: 176, total reward: 0.02000000000000001\n",
      "Episode: 177, total reward: 0.02000000000000001\n",
      "Episode: 178, total reward: 0.02000000000000001\n",
      "Episode: 179, total reward: 0.02000000000000001\n",
      "Episode: 180, total reward: 0.02000000000000001\n",
      "Episode: 181, total reward: 0.02000000000000001\n",
      "Episode: 182, total reward: 0.02000000000000001\n",
      "Episode: 183, total reward: 0.02000000000000001\n",
      "Episode: 184, total reward: 0.02000000000000001\n",
      "Episode: 185, total reward: 0.02000000000000001\n",
      "Episode: 186, total reward: 0.02000000000000001\n",
      "Episode: 187, total reward: 0.02000000000000001\n",
      "Episode: 188, total reward: 0.02000000000000001\n",
      "Episode: 189, total reward: 0.02000000000000001\n",
      "Episode: 190, total reward: 0.02000000000000001\n",
      "Episode: 191, total reward: 0.02000000000000001\n",
      "Episode: 192, total reward: 0.02000000000000001\n",
      "Episode: 193, total reward: 0.02000000000000001\n",
      "Episode: 194, total reward: 0.02000000000000001\n",
      "Episode: 195, total reward: 0.02000000000000001\n",
      "Episode: 196, total reward: 0.02000000000000001\n",
      "Episode: 197, total reward: 0.02000000000000001\n",
      "Episode: 198, total reward: 0.02000000000000001\n",
      "Episode: 199, total reward: 0.02000000000000001\n"
     ]
    }
   ],
   "source": [
    "n_state = 6\n",
    "n_action = env.action_space.n\n",
    "n_hidden = 1024\n",
    "lr = 0.0001\n",
    "\n",
    "policy_net = PolicyNetwork(n_state, n_action, n_hidden, lr)\n",
    "\n",
    "gamma = 0.9\n",
    "n_episode = 200\n",
    "\n",
    "total_reward_episode = [0] * n_episode\n",
    "\n",
    "actor_critic(env, policy_net, n_episode, gamma)"
   ]
  }
 ],
 "metadata": {
  "kernelspec": {
   "display_name": "Python 3",
   "language": "python",
   "name": "python3"
  },
  "language_info": {
   "codemirror_mode": {
    "name": "ipython",
    "version": 3
   },
   "file_extension": ".py",
   "mimetype": "text/x-python",
   "name": "python",
   "nbconvert_exporter": "python",
   "pygments_lexer": "ipython3",
   "version": "3.11.9"
  }
 },
 "nbformat": 4,
 "nbformat_minor": 2
}
