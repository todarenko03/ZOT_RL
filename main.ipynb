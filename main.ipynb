{
 "cells": [
  {
   "cell_type": "code",
   "execution_count": 301,
   "metadata": {},
   "outputs": [],
   "source": [
    "import flappy_bird_env\n",
    "import gymnasium\n",
    "import gym\n",
    "import torch\n",
    "from gymnasium.utils.play import play\n",
    "import numpy as np\n",
    "import pygame\n",
    "import math\n",
    "from torch.autograd import Variable\n",
    "import matplotlib.pyplot as plt"
   ]
  },
  {
   "cell_type": "markdown",
   "metadata": {},
   "source": [
    "Характеристики среды:\n",
    "    Имеется 2 действия. 1: сделать рывок вверх. 0: ничего не делать.\n",
    "    Состояния: Изначально среда передавала изображение размерностью 800 * 576 * 3, но мы решили работать с 6 числами. Координаты и размеры трубы, и координаты птички.\n",
    "    Ревард: +1 за каждую пройденную трубу и + 0.001 за каждый пройденный кадр без коллизии"
   ]
  },
  {
   "cell_type": "code",
   "execution_count": 282,
   "metadata": {},
   "outputs": [],
   "source": [
    "env = gymnasium.make(\"FlappyBird-v0\", render_mode=\"rgb_array\")"
   ]
  },
  {
   "cell_type": "code",
   "execution_count": 283,
   "metadata": {},
   "outputs": [
    {
     "data": {
      "text/plain": [
       "array([[[ 78, 192, 202],\n",
       "        [ 78, 192, 202],\n",
       "        [ 78, 192, 202],\n",
       "        ...,\n",
       "        [ 78, 192, 202],\n",
       "        [ 78, 192, 202],\n",
       "        [ 78, 192, 202]],\n",
       "\n",
       "       [[ 78, 192, 202],\n",
       "        [ 78, 192, 202],\n",
       "        [ 78, 192, 202],\n",
       "        ...,\n",
       "        [ 78, 192, 202],\n",
       "        [ 78, 192, 202],\n",
       "        [ 78, 192, 202]],\n",
       "\n",
       "       [[ 78, 192, 202],\n",
       "        [ 78, 192, 202],\n",
       "        [ 78, 192, 202],\n",
       "        ...,\n",
       "        [ 78, 192, 202],\n",
       "        [ 78, 192, 202],\n",
       "        [ 78, 192, 202]],\n",
       "\n",
       "       ...,\n",
       "\n",
       "       [[222, 216, 149],\n",
       "        [222, 216, 149],\n",
       "        [222, 216, 149],\n",
       "        ...,\n",
       "        [222, 216, 149],\n",
       "        [222, 216, 149],\n",
       "        [222, 216, 149]],\n",
       "\n",
       "       [[222, 216, 149],\n",
       "        [222, 216, 149],\n",
       "        [222, 216, 149],\n",
       "        ...,\n",
       "        [222, 216, 149],\n",
       "        [222, 216, 149],\n",
       "        [222, 216, 149]],\n",
       "\n",
       "       [[222, 216, 149],\n",
       "        [222, 216, 149],\n",
       "        [222, 216, 149],\n",
       "        ...,\n",
       "        [222, 216, 149],\n",
       "        [222, 216, 149],\n",
       "        [222, 216, 149]]], dtype=uint8)"
      ]
     },
     "execution_count": 283,
     "metadata": {},
     "output_type": "execute_result"
    }
   ],
   "source": [
    "env.reset()\n",
    "env.render()"
   ]
  },
  {
   "cell_type": "code",
   "execution_count": 284,
   "metadata": {},
   "outputs": [],
   "source": [
    "# play(env, keys_to_action={(pygame.K_SPACE,): np.array([1])}, noop=np.array([0]),\n",
    "#      fps=24)"
   ]
  },
  {
   "cell_type": "code",
   "execution_count": 285,
   "metadata": {},
   "outputs": [
    {
     "data": {
      "text/plain": [
       "Discrete(2)"
      ]
     },
     "execution_count": 285,
     "metadata": {},
     "output_type": "execute_result"
    }
   ],
   "source": [
    "env.action_space"
   ]
  },
  {
   "cell_type": "code",
   "execution_count": 316,
   "metadata": {},
   "outputs": [],
   "source": [
    "def gen_epsilon_greedy_policy(estimator, epsilon, n_action):\n",
    "    def policy_function(state):\n",
    "            probs = torch.ones(n_action) * epsilon / n_action\n",
    "            q_values = estimator.predict(state)\n",
    "            best_action = torch.argmax(q_values).item()\n",
    "            probs[best_action] += 1.0 - epsilon\n",
    "            action = torch.multinomial(probs, 1).item()\n",
    "            return action \n",
    "    return policy_function"
   ]
  },
  {
   "cell_type": "code",
   "execution_count": 287,
   "metadata": {},
   "outputs": [],
   "source": [
    "class LR_Estimate():\n",
    "    def __init__(self, n_feat, n_state, n_action, lr=0.05):#n_state - размерность состояний теперь\n",
    "        self.w, self.b = self.get_gaussian_wb(n_feat,n_state)\n",
    "        self.n_feat = n_feat\n",
    "        self.models = []\n",
    "        self.optimizers = []\n",
    "        self.criterion = torch.nn.MSELoss()\n",
    "        for _ in range(n_action):\n",
    "            model = torch.nn.Linear(n_feat,1)\n",
    "            self.models.append(model)\n",
    "            optimizer = torch.optim.SGD(model.parameters(), lr)\n",
    "            self.optimizers.append(optimizer)\n",
    "\n",
    "    def get_gaussian_wb(self, n_feat, n_state, sigma=.2):\n",
    "        torch.manual_seed(0)\n",
    "        w = torch.randn((n_state,n_feat))/sigma\n",
    "        b = torch.rand((n_feat))* 2.0 * math.pi\n",
    "        return w, b\n",
    "\n",
    "    def get_feature(self, s):\n",
    "        features = (2.0 / self.n_feat) ** 0.5 * torch.cos(torch.matmul(torch.tensor(s).float().T, self.w) + self.b)\n",
    "        \n",
    "        return features\n",
    "\n",
    "    def update(self, s, a, y):\n",
    "        features = Variable(self.get_feature(s))\n",
    "        y_pred = self.models[a](features)\n",
    "\n",
    "        loss = self.criterion(y_pred, Variable(torch.Tensor([y])))\n",
    "\n",
    "        self.optimizers[a].zero_grad()\n",
    "        loss.backward()\n",
    "        self.optimizers[a].step()\n",
    "\n",
    "    def predict(self,s):\n",
    "        features = self.get_feature(s)\n",
    "        # print(features)\n",
    "        with torch.no_grad():\n",
    "            m = [model(features) for model in self.models]\n",
    "            b = torch.Tensor(len(m), len(m[0]))\n",
    "            \n",
    "            torch.cat(m, out=b)\n",
    "            return b"
   ]
  },
  {
   "cell_type": "code",
   "execution_count": 288,
   "metadata": {},
   "outputs": [],
   "source": [
    "estimator = LR_Estimate(10, 6, env.action_space.n)\n",
    "policy = gen_epsilon_greedy_policy(estimator, 0.1, env.action_space.n)"
   ]
  },
  {
   "cell_type": "code",
   "execution_count": 289,
   "metadata": {},
   "outputs": [
    {
     "data": {
      "text/plain": [
       "2"
      ]
     },
     "execution_count": 289,
     "metadata": {},
     "output_type": "execute_result"
    }
   ],
   "source": [
    "env.action_space.n"
   ]
  },
  {
   "cell_type": "code",
   "execution_count": 290,
   "metadata": {},
   "outputs": [
    {
     "name": "stdout",
     "output_type": "stream",
     "text": [
      "<function gen_epsilon_greedy_policy.<locals>.policy_function at 0x7f8043531580>\n"
     ]
    }
   ],
   "source": [
    "print(policy)"
   ]
  },
  {
   "cell_type": "code",
   "execution_count": 291,
   "metadata": {},
   "outputs": [],
   "source": [
    "def rgbtogray2(img):\n",
    "    return np.array([[i[0] * 0.299 + i[1] * 0.587 + i[2] * 0.114 for i in j] for j in img]).astype(int)"
   ]
  },
  {
   "cell_type": "code",
   "execution_count": 292,
   "metadata": {},
   "outputs": [
    {
     "data": {
      "text/plain": [
       "(200, 100)"
      ]
     },
     "execution_count": 292,
     "metadata": {},
     "output_type": "execute_result"
    }
   ],
   "source": [
    "s = np.zeros((200, 100, 3))\n",
    "rgbtogray2(s).shape"
   ]
  },
  {
   "cell_type": "code",
   "execution_count": 293,
   "metadata": {},
   "outputs": [
    {
     "data": {
      "text/plain": [
       "{'background': {'upper_left': (0, 0)},\n",
       " 'pipes': [{'x': 695, 'height': 151, 'top': -489, 'bottom': 351}],\n",
       " 'base': {'x1': -5, 'x2': 667, 'y': 700},\n",
       " 'bird': {'x': 222, 'y': 365.0},\n",
       " 'last_action': 0,\n",
       " 'score': 0}"
      ]
     },
     "execution_count": 293,
     "metadata": {},
     "output_type": "execute_result"
    }
   ],
   "source": [
    "env.reset()\n",
    "env.step(1)[4]"
   ]
  },
  {
   "cell_type": "code",
   "execution_count": 294,
   "metadata": {},
   "outputs": [
    {
     "data": {
      "text/plain": [
       "{'background': {'upper_left': (0, 0)},\n",
       " 'pipes': [{'x': 700, 'height': 314, 'top': -326, 'bottom': 514}],\n",
       " 'base': {'x1': 0, 'x2': 672, 'y': 700},\n",
       " 'bird': {'x': 222, 'y': 376},\n",
       " 'last_action': 0,\n",
       " 'score': 0}"
      ]
     },
     "execution_count": 294,
     "metadata": {},
     "output_type": "execute_result"
    }
   ],
   "source": [
    "env.reset()[1]"
   ]
  },
  {
   "cell_type": "code",
   "execution_count": 295,
   "metadata": {},
   "outputs": [],
   "source": [
    "# play(env, keys_to_action={(pygame.K_SPACE,): np.array([1])}, noop=np.array([0]),\n",
    "# fps=24)"
   ]
  },
  {
   "cell_type": "code",
   "execution_count": 296,
   "metadata": {},
   "outputs": [
    {
     "name": "stderr",
     "output_type": "stream",
     "text": [
      "/tmp/ipykernel_19126/3857906204.py:42: UserWarning: An output with one or more elements was resized since it had shape [2, 1], which does not match the required output shape [2]. This behavior is deprecated, and in a future PyTorch release outputs will not be resized unless they have zero elements. You can explicitly reuse an out tensor t by resizing it, inplace, to zero elements with t.resize_(0). (Triggered internally at ../aten/src/ATen/native/Resize.cpp:26.)\n",
      "  torch.cat(m, out=b)\n"
     ]
    }
   ],
   "source": [
    "rewards = np.zeros(30)\n",
    "for traj_num in range(30):\n",
    "    info = env.reset()\n",
    "    state = np.array(list(info[1]['pipes'][-1].values()) + list(info[1]['bird'].values()))\n",
    "    is_done = False\n",
    "    for ___ in range(100):\n",
    "        if is_done:\n",
    "            break\n",
    "        action = policy(state)\n",
    "        new_state, reward, is_done, __,  info = env.step(action)\n",
    "        state = np.array(list(info['pipes'][-1].values()) + list(info['bird'].values()))\n",
    "        rewards[traj_num] += reward "
   ]
  },
  {
   "cell_type": "code",
   "execution_count": 297,
   "metadata": {},
   "outputs": [
    {
     "name": "stdout",
     "output_type": "stream",
     "text": [
      "0.060733333333333354\n"
     ]
    }
   ],
   "source": [
    "mean_rew = sum(rewards) / len(rewards)\n",
    "print(mean_rew)"
   ]
  },
  {
   "cell_type": "code",
   "execution_count": 298,
   "metadata": {},
   "outputs": [
    {
     "name": "stdout",
     "output_type": "stream",
     "text": [
      "(0.019335231582902714, 0.10213143508376399)\n"
     ]
    }
   ],
   "source": [
    "from scipy import stats\n",
    "\n",
    "interval = stats.norm.interval(0.95, loc=mean_rew, scale=stats.tstd(rewards, axis=0))\n",
    "print(interval)"
   ]
  },
  {
   "cell_type": "code",
   "execution_count": 337,
   "metadata": {},
   "outputs": [],
   "source": [
    "def q_learning(env, estimator, n_episode, epsilon, n_action, gamma=1.0, epsilon_decay=0.99):\n",
    "    for episode in range(n_episode):\n",
    "        policy = gen_epsilon_greedy_policy(estimator, epsilon * epsilon_decay ** episode, n_action)\n",
    "        info = env.reset()\n",
    "        state = np.array(list(info[1]['pipes'][-1].values()) + list(info[1]['bird'].values()))\n",
    "        is_done = False\n",
    "        while not is_done:\n",
    "            action = policy(state)\n",
    "            new_state, reward, is_done, __,  info = env.step(action)\n",
    "            near_pipe = min(info['pipes'], key= lambda x: abs(x['x'] - info['bird']['x']))\n",
    "            new_state = np.array(list(near_pipe.values()) + list(info['bird'].values()))\n",
    "            # if len(info['pipes']) > 1 and abs(info['pipes'][0]['x'] - info['bird']['x']) > abs(info['pipes'][1]['x'] - info['bird']['x']):\n",
    "                \n",
    "            #     new_state = np.array(list(info['pipes'][1].values()) + list(info['bird'].values()))\n",
    "            # else:\n",
    "            #     new_state = np.array(list(info['pipes'][0].values()) + list(info['bird'].values()))\n",
    "            q_values_next = estimator.predict(new_state)\n",
    "            td_target = reward + gamma * torch.max(q_values_next )\n",
    "            estimator.update(state, action, td_target)\n",
    "            total_reward_episode[episode] += reward\n",
    "        state = new_state"
   ]
  },
  {
   "cell_type": "code",
   "execution_count": 343,
   "metadata": {},
   "outputs": [
    {
     "name": "stderr",
     "output_type": "stream",
     "text": [
      "/tmp/ipykernel_19126/3857906204.py:42: UserWarning: An output with one or more elements was resized since it had shape [2, 1], which does not match the required output shape [2]. This behavior is deprecated, and in a future PyTorch release outputs will not be resized unless they have zero elements. You can explicitly reuse an out tensor t by resizing it, inplace, to zero elements with t.resize_(0). (Triggered internally at ../aten/src/ATen/native/Resize.cpp:26.)\n",
      "  torch.cat(m, out=b)\n"
     ]
    }
   ],
   "source": [
    "n_state = 6\n",
    "n_action = env.action_space.n\n",
    "n_feature = 5\n",
    "lr = 0.03\n",
    "estimator = LR_Estimate(n_feature, n_state, n_action, lr)\n",
    "\n",
    "n_episode = 300\n",
    "total_reward_episode = [0] * n_episode\n",
    "q_learning(env, estimator, n_episode, 0.1, n_action)"
   ]
  },
  {
   "cell_type": "code",
   "execution_count": 342,
   "metadata": {},
   "outputs": [
    {
     "name": "stdout",
     "output_type": "stream",
     "text": [
      "0.08900000000000007\n"
     ]
    }
   ],
   "source": [
    "print(max(total_reward_episode))"
   ]
  },
  {
   "cell_type": "code",
   "execution_count": 344,
   "metadata": {},
   "outputs": [],
   "source": [
    "plt.plot(total_reward_episode, 'b.')\n",
    "plt.title('Зависимость вознаграждения в эпизоде от времени')\n",
    "plt.xlabel('Эпизод')\n",
    "plt.ylabel('Полное вознаграждение')\n",
    "plt.show()"
   ]
  },
  {
   "cell_type": "markdown",
   "metadata": {},
   "source": []
  }
 ],
 "metadata": {
  "kernelspec": {
   "display_name": "Python 3",
   "language": "python",
   "name": "python3"
  },
  "language_info": {
   "codemirror_mode": {
    "name": "ipython",
    "version": 3
   },
   "file_extension": ".py",
   "mimetype": "text/x-python",
   "name": "python",
   "nbconvert_exporter": "python",
   "pygments_lexer": "ipython3",
   "version": "3.11.6"
  }
 },
 "nbformat": 4,
 "nbformat_minor": 2
}
