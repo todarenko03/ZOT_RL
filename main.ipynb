{
 "cells": [
  {
   "cell_type": "code",
   "execution_count": 32,
   "metadata": {},
   "outputs": [],
   "source": [
    "import flappy_bird_env\n",
    "import gymnasium\n",
    "import gym\n",
    "import torch\n",
    "from gymnasium.utils.play import play\n",
    "import numpy as np\n",
    "import pygame"
   ]
  },
  {
   "cell_type": "code",
   "execution_count": 28,
   "metadata": {},
   "outputs": [],
   "source": [
    "env = gymnasium.make(\"FlappyBird-v0\", render_mode=\"rgb_array\")"
   ]
  },
  {
   "cell_type": "code",
   "execution_count": 33,
   "metadata": {},
   "outputs": [
    {
     "data": {
      "text/plain": [
       "array([[[ 78, 192, 202],\n",
       "        [ 78, 192, 202],\n",
       "        [ 78, 192, 202],\n",
       "        ...,\n",
       "        [ 78, 192, 202],\n",
       "        [ 78, 192, 202],\n",
       "        [ 78, 192, 202]],\n",
       "\n",
       "       [[ 78, 192, 202],\n",
       "        [ 78, 192, 202],\n",
       "        [ 78, 192, 202],\n",
       "        ...,\n",
       "        [ 78, 192, 202],\n",
       "        [ 78, 192, 202],\n",
       "        [ 78, 192, 202]],\n",
       "\n",
       "       [[ 78, 192, 202],\n",
       "        [ 78, 192, 202],\n",
       "        [ 78, 192, 202],\n",
       "        ...,\n",
       "        [ 78, 192, 202],\n",
       "        [ 78, 192, 202],\n",
       "        [ 78, 192, 202]],\n",
       "\n",
       "       ...,\n",
       "\n",
       "       [[222, 216, 149],\n",
       "        [222, 216, 149],\n",
       "        [222, 216, 149],\n",
       "        ...,\n",
       "        [222, 216, 149],\n",
       "        [222, 216, 149],\n",
       "        [222, 216, 149]],\n",
       "\n",
       "       [[222, 216, 149],\n",
       "        [222, 216, 149],\n",
       "        [222, 216, 149],\n",
       "        ...,\n",
       "        [222, 216, 149],\n",
       "        [222, 216, 149],\n",
       "        [222, 216, 149]],\n",
       "\n",
       "       [[222, 216, 149],\n",
       "        [222, 216, 149],\n",
       "        [222, 216, 149],\n",
       "        ...,\n",
       "        [222, 216, 149],\n",
       "        [222, 216, 149],\n",
       "        [222, 216, 149]]], dtype=uint8)"
      ]
     },
     "execution_count": 33,
     "metadata": {},
     "output_type": "execute_result"
    }
   ],
   "source": [
    "env.reset()\n",
    "env.render()"
   ]
  },
  {
   "cell_type": "code",
   "execution_count": 34,
   "metadata": {},
   "outputs": [],
   "source": [
    "play(env, keys_to_action={(pygame.K_SPACE,): np.array([1])}, noop=np.array([0]),\n",
    "     fps=24)"
   ]
  },
  {
   "cell_type": "code",
   "execution_count": 27,
   "metadata": {},
   "outputs": [
    {
     "data": {
      "text/plain": [
       "Discrete(2)"
      ]
     },
     "execution_count": 27,
     "metadata": {},
     "output_type": "execute_result"
    }
   ],
   "source": [
    "env.action_space"
   ]
  },
  {
   "cell_type": "code",
   "execution_count": 19,
   "metadata": {},
   "outputs": [],
   "source": [
    "def gen_epsilon_greedy_policy(estimator, epsilon, n_action):\n",
    "    def policy_function(state):\n",
    "            probs = torch.ones(n_action) * epsilon / n_action\n",
    "            q_values = estimator.predict(state)\n",
    "            best_action = torch.argmax(q_values).item()\n",
    "            probs[best_action] += 1.0 - epsilon\n",
    "            action = torch.multinomial(probs, 1).item()\n",
    "            return action \n",
    "    return policy_function"
   ]
  },
  {
   "cell_type": "code",
   "execution_count": 23,
   "metadata": {},
   "outputs": [],
   "source": [
    "class LR_Estimate():\n",
    "    def __init__(self, n_feat, n_state, n_action, lr=0.05):#n_state - размерность состояний теперь\n",
    "        self.w, self.b = self.get_gaussian_wb(n_feat,n_state)\n",
    "        self.n_feat = n_feat\n",
    "        self.models = []\n",
    "        self.optimizers = []\n",
    "        self.criterion = torch.nn.MSELoss()\n",
    "        for _ in range(n_action):\n",
    "            model = torch.nn.Linear(n_feat,1)\n",
    "            self.models.append(model)\n",
    "            optimizer = torch.optim.SGD(model.parameters(), lr)\n",
    "            self.optimizers.append(optimizer)\n",
    "\n",
    "    def get_gaussian_wb(self, n_feat, n_state, sigma=.2):\n",
    "        torch.manual_seed(0)\n",
    "        w = torch.randn((n_state,n_feat))/sigma\n",
    "        b = torch.rand((n_feat))* 2.0 * math.pi\n",
    "\n",
    "    def get_feature(self, s):\n",
    "        features = (2.0 / self.n_feat) ** 0.5 * torch.cos(torch.matmul(torch.tensor(s).float(), self.w) + self.b)\n",
    "        return features\n",
    "\n",
    "    def update(self, s, a, y):\n",
    "        features = Variable(self.get_feature(s))\n",
    "        y_pred = self.models[a](features)\n",
    "\n",
    "        loss = self.criterion(y_pred, Variable(torch.Tensor([y])))\n",
    "\n",
    "        self.optimizers[a].zero_grad()\n",
    "        loss.backward()\n",
    "        self.optimizers[a].step()\n",
    "\n",
    "    def predict(self,s):\n",
    "        features = self.get_features(s)\n",
    "        with torch.no_grad():\n",
    "            return torch.tensor([model(features) for model in self.models])"
   ]
  }
 ],
 "metadata": {
  "kernelspec": {
   "display_name": "Python 3",
   "language": "python",
   "name": "python3"
  },
  "language_info": {
   "codemirror_mode": {
    "name": "ipython",
    "version": 3
   },
   "file_extension": ".py",
   "mimetype": "text/x-python",
   "name": "python",
   "nbconvert_exporter": "python",
   "pygments_lexer": "ipython3",
   "version": "3.11.6"
  }
 },
 "nbformat": 4,
 "nbformat_minor": 2
}
